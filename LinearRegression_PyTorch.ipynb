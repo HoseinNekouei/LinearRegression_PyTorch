{
  "nbformat": 4,
  "nbformat_minor": 0,
  "metadata": {
    "colab": {
      "provenance": [],
      "authorship_tag": "ABX9TyNHcIAk9ottVXIRMhVPtxpZ",
      "include_colab_link": true
    },
    "kernelspec": {
      "name": "python3",
      "display_name": "Python 3"
    },
    "language_info": {
      "name": "python"
    }
  },
  "cells": [
    {
      "cell_type": "markdown",
      "metadata": {
        "id": "view-in-github",
        "colab_type": "text"
      },
      "source": [
        "<a href=\"https://colab.research.google.com/github/HoseinNekouei/LinearRegression_PyTorch/blob/main/LinearRegression_PyTorch.ipynb\" target=\"_parent\"><img src=\"https://colab.research.google.com/assets/colab-badge.svg\" alt=\"Open In Colab\"/></a>"
      ]
    },
    {
      "cell_type": "code",
      "source": [
        "from sklearn.model_selection import train_test_split\n",
        "from sklearn.preprocessing import StandardScaler\n",
        "import torch\n",
        "import matplotlib.pyplot as plt\n",
        "import pandas as pd"
      ],
      "metadata": {
        "id": "yTIgCB5_1knc"
      },
      "execution_count": 1,
      "outputs": []
    },
    {
      "cell_type": "code",
      "source": [
        "# Use the 'raw' URL to access the CSV data directly\n",
        "df = pd.read_csv('https://raw.githubusercontent.com/YBIFoundation/Dataset/main/Salary%20Data.csv')\n",
        "x= df['Experience Years'].values\n",
        "y= df['Salary'].values\n",
        "\n",
        "x_train, x_test, y_train, y_test = train_test_split(x,y, test_size=0.3, random_state=42)\n",
        "print(x_train.shape, y_train.shape, x_test.shape, y_test.shape)"
      ],
      "metadata": {
        "colab": {
          "base_uri": "https://localhost:8080/"
        },
        "id": "zf1BfF4w2bl0",
        "outputId": "bf39ede6-2c5a-40af-b523-d7bf972415d3"
      },
      "execution_count": 4,
      "outputs": [
        {
          "output_type": "stream",
          "name": "stdout",
          "text": [
            "(28,) (28,) (12,) (12,)\n"
          ]
        }
      ]
    },
    {
      "cell_type": "code",
      "source": [
        "x_train= x_train.reshape(-1, 1)\n",
        "y_train= y_train.reshape(-1, 1)\n",
        "x_test= x_test.reshape(-1, 1)\n",
        "y_test= y_test.reshape(-1, 1)\n",
        "\n",
        "scaler= StandardScaler()\n",
        "\n",
        "x_train= scaler.fit_transform(x_train)\n",
        "y_train= scaler.fit_transform(y_train)\n",
        "\n",
        "x_test= scaler.transform(x_test)\n",
        "y_test= scaler.transform(y_test)\n",
        "\n",
        "x_train= torch.tensor(x_train, dtype=torch.float32)\n",
        "y_train= torch.tensor(y_train, dtype=torch.float32)\n",
        "x_test= torch.tensor(x_test, dtype=torch.float32)\n",
        "y_test= torch.tensor(y_test, dtype=torch.float32)\n",
        "\n",
        "print(x_train.shape, y_train.shape, x_test.shape, y_test.shape)"
      ],
      "metadata": {
        "colab": {
          "base_uri": "https://localhost:8080/"
        },
        "id": "G0mJ7Hjb3kdp",
        "outputId": "e388044d-06a3-42b8-b677-bcd55d94bac2"
      },
      "execution_count": 5,
      "outputs": [
        {
          "output_type": "stream",
          "name": "stdout",
          "text": [
            "torch.Size([28, 1]) torch.Size([28, 1]) torch.Size([12, 1]) torch.Size([12, 1])\n"
          ]
        }
      ]
    },
    {
      "cell_type": "code",
      "execution_count": 6,
      "metadata": {
        "id": "lUFc-TPP1gsW"
      },
      "outputs": [],
      "source": [
        "class GrdientRegression:\n",
        "    def __init__(self, x, y, eta= 0.1, num_iteration= 100 ):\n",
        "        self.x= x\n",
        "        self.y= y\n",
        "        self.eta= eta\n",
        "        self.weight= torch.randn(1)\n",
        "        self.bias= torch.randn(1)\n",
        "        self.num_iteration= num_iteration\n",
        "\n",
        "    def predict(self):\n",
        "        \"\"\"Predict using the current weight and bias.\"\"\"\n",
        "        self.y_hat= (self.weight * self.x) + self.bias\n",
        "\n",
        "    def mse(self):\n",
        "        \"\"\"Compute Mean Squared Error.\"\"\"\n",
        "        self.error = self.y_hat - self.y\n",
        "        self.loss= torch.mean((self.error) ** 2)\n",
        "\n",
        "    def calc_gradient(self):\n",
        "        \"\"\"Calculate gradients for weight and bias.\"\"\"\n",
        "        self.grad_bias = 2 * torch.mean(self.error)\n",
        "        self.grad_weight= 2 * torch.mean(self.x * self.error)\n",
        "\n",
        "    def update(self):\n",
        "        \"\"\"Update weight and bias using the calculated gradients.\"\"\"\n",
        "        self.weight -= self.eta * self.grad_weight\n",
        "        self.bias -= self.eta * self.grad_bias\n",
        "\n",
        "    def fit(self):\n",
        "        \"\"\"Fit model to the data \"\"\"\n",
        "        for index in range(self.num_iteration):\n",
        "            self.predict() # Make Prediction\n",
        "            self.mse() # Compute loss\n",
        "            self.calc_gradient() # Calculate gradients\n",
        "            self.update() # Update parameters\n",
        "            print(f'fit {index}/{self.num_iteration}: loss: {self.loss:.4f}, weight: {self.weight.item():.4f}, bias: {self.bias.item():.4f}')\n",
        "\n",
        "        return self.weight, self.bias\n",
        "\n",
        "\n",
        "    def __str__(self):\n",
        "        \"\"\"Return a string representation of the model parameters.\"\"\"\n",
        "        return f'\\nstar_weight: {self.weight.item():.4f}, star_bias: {self.bias.item():.4f}'\n",
        "\n"
      ]
    },
    {
      "cell_type": "code",
      "source": [
        "model = GrdientRegression(x_train, y_train, eta= 0.2, num_iteration= 30)\n",
        "model.fit()\n",
        "print(model)\n",
        "\n",
        "weight= model.weight\n",
        "bias= model.bias\n",
        "y_hat = (x_train * weight) + bias\n",
        "\n",
        "\n",
        "plt.scatter(x_train, y_train)\n",
        "plt.plot(x_train, y_hat, color='orange');"
      ],
      "metadata": {
        "colab": {
          "base_uri": "https://localhost:8080/",
          "height": 1000
        },
        "id": "ccaztknZ323i",
        "outputId": "80a99e94-c893-4689-93ac-b39fe6a43332"
      },
      "execution_count": 7,
      "outputs": [
        {
          "output_type": "stream",
          "name": "stdout",
          "text": [
            "fit 0/30: loss: 2.7338, weight: 0.1252, bias: 0.4897\n",
            "fit 1/30: loss: 1.0102, weight: 0.4669, bias: 0.2938\n",
            "fit 2/30: loss: 0.3897, weight: 0.6719, bias: 0.1763\n",
            "fit 3/30: loss: 0.1663, weight: 0.7949, bias: 0.1058\n",
            "fit 4/30: loss: 0.0859, weight: 0.8687, bias: 0.0635\n",
            "fit 5/30: loss: 0.0570, weight: 0.9130, bias: 0.0381\n",
            "fit 6/30: loss: 0.0465, weight: 0.9396, bias: 0.0228\n",
            "fit 7/30: loss: 0.0428, weight: 0.9555, bias: 0.0137\n",
            "fit 8/30: loss: 0.0414, weight: 0.9651, bias: 0.0082\n",
            "fit 9/30: loss: 0.0409, weight: 0.9708, bias: 0.0049\n",
            "fit 10/30: loss: 0.0408, weight: 0.9743, bias: 0.0030\n",
            "fit 11/30: loss: 0.0407, weight: 0.9764, bias: 0.0018\n",
            "fit 12/30: loss: 0.0407, weight: 0.9776, bias: 0.0011\n",
            "fit 13/30: loss: 0.0407, weight: 0.9783, bias: 0.0006\n",
            "fit 14/30: loss: 0.0407, weight: 0.9788, bias: 0.0004\n",
            "fit 15/30: loss: 0.0407, weight: 0.9790, bias: 0.0002\n",
            "fit 16/30: loss: 0.0407, weight: 0.9792, bias: 0.0001\n",
            "fit 17/30: loss: 0.0407, weight: 0.9793, bias: 0.0001\n",
            "fit 18/30: loss: 0.0407, weight: 0.9794, bias: 0.0000\n",
            "fit 19/30: loss: 0.0407, weight: 0.9794, bias: 0.0000\n",
            "fit 20/30: loss: 0.0407, weight: 0.9794, bias: 0.0000\n",
            "fit 21/30: loss: 0.0407, weight: 0.9794, bias: 0.0000\n",
            "fit 22/30: loss: 0.0407, weight: 0.9794, bias: 0.0000\n",
            "fit 23/30: loss: 0.0407, weight: 0.9794, bias: 0.0000\n",
            "fit 24/30: loss: 0.0407, weight: 0.9794, bias: 0.0000\n",
            "fit 25/30: loss: 0.0407, weight: 0.9794, bias: 0.0000\n",
            "fit 26/30: loss: 0.0407, weight: 0.9794, bias: 0.0000\n",
            "fit 27/30: loss: 0.0407, weight: 0.9795, bias: 0.0000\n",
            "fit 28/30: loss: 0.0407, weight: 0.9795, bias: 0.0000\n",
            "fit 29/30: loss: 0.0407, weight: 0.9795, bias: 0.0000\n",
            "\n",
            "star_weight: 0.9795, star_bias: 0.0000\n"
          ]
        },
        {
          "output_type": "display_data",
          "data": {
            "text/plain": [
              "<Figure size 640x480 with 1 Axes>"
            ],
            "image/png": "[encoded data removed]"
          },
          "metadata": {}
        }
      ]
    },
    {
      "cell_type": "code",
      "source": [],
      "metadata": {
        "id": "4s60NMhk34D0"
      },
      "execution_count": null,
      "outputs": []
    }
  ]
}