class GrdientRegression:
    def __init__(self, x, y, eta= 0.1, num_iteration= 100 ):
        self.x= x
        self.y= y
        self.eta= eta
        self.weight= torch.randn(1)
        self.bias= torch.randn(1)
        self.num_iteration= num_iteration

    def predict(self):
        """Predict using the current weight and bias."""
        self.y_hat= (self.weight * self.x) + self.bias
        
    def mse(self):
        """Compute Mean Squared Error.""" 
        self.error = self.y_hat - self.y
        self.loss= torch.mean((self.error) ** 2)
        
    def calc_gradient(self):
        """Calculate gradients for weight and bias."""  
        self.grad_bias = 2 * torch.mean(self.error)
        self.grad_weight= 2 * torch.mean(self.x * self.error)

    def update(self):
        """Update weight and bias using the calculated gradients."""          
        self.weight -= self.eta * self.grad_weight
        self.bias -= self.eta * self.grad_bias
        
    def fit(self):
        """Fit model to the data """
        for index in range(self.num_iteration):
            self.predict() # Make Prediction
            self.mse() # Compute loss
            self.calc_gradient() # Calculate gradients
            self.update() # Update parameters
            print(f'fit {index}/{self.num_iteration}: loss: {self.loss:.4f}, weight: {self.weight.item():.4f}, bias: {self.bias.item():.4f}')
            
        return self.weight, self.bias

    
    def __str__(self):
        """Return a string representation of the model parameters."""          
        return f'\nstar_weight: {self.weight.item():.4f}, star_bias: {self.bias.item():.4f}'

